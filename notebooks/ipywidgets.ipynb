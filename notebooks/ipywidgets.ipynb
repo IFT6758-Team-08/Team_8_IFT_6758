{
 "cells": [
  {
   "cell_type": "code",
   "execution_count": 308,
   "id": "2aefa96e",
   "metadata": {},
   "outputs": [],
   "source": [
    "import requests\n",
    "import ipywidgets as widgets\n",
    "from ipywidgets import interact, interactive, fixed, interact_manual\n",
    "from IPython.display import display\n",
    "import json\n",
    "import os\n",
    "import matplotlib.pyplot as plt\n",
    "import matplotlib.image as mpimg\n",
    "import numpy as np\n",
    "import time"
   ]
  },
  {
   "cell_type": "code",
   "execution_count": 309,
   "id": "c8995d6b",
   "metadata": {},
   "outputs": [],
   "source": [
    "#!pip install markdown"
   ]
  },
  {
   "cell_type": "code",
   "execution_count": 310,
   "id": "c5357d54",
   "metadata": {},
   "outputs": [],
   "source": [
    "from code import interact\n",
    "import pandas as pd\n",
    "import markdown\n",
    "from requests import options"
   ]
  },
  {
   "cell_type": "code",
   "execution_count": 431,
   "id": "2939a18f",
   "metadata": {},
   "outputs": [],
   "source": [
    "def fetch_event_ids(game_id, game):   \n",
    "    all_plays = pd.DataFrame(game['liveData']['plays']['allPlays'])\n",
    "    event_ids = pd.json_normalize(all_plays['about'])['eventId'].values\n",
    "    coordinates = all_plays.coordinates.values\n",
    "    results = all_plays.result.values\n",
    "    event_cord = dict(zip(event_ids,coordinates))\n",
    "    return event_cord \n",
    "    \n",
    "def get_game_ids(path):\n",
    "    \"\"\"returns a list of all game ids inside a json file\"\"\"\n",
    "    ge_pairs=[]\n",
    "    with open(path) as json_file:\n",
    "        data = json.load(json_file)\n",
    "    game_ids = list(data.keys())\n",
    "    for i in game_ids[0:6]:\n",
    "        case = {i:fetch_event_ids(i, data[str(i)])}\n",
    "        ge_pairs.append(case)\n",
    "#     print(ge_pairs)\n",
    "    return pd.DataFrame(ge_pairs).to_dict(orient='records')[0]\n",
    "\n",
    "def game_id_widget(path):\n",
    "    \"\"\"\"returns Game ID widget \"\"\"\n",
    "    \n",
    "    data = get_game_ids(path)\n",
    "      \n",
    "    g_id_widget = widgets.SelectionSlider(\n",
    "        value=min(data.keys()),\n",
    "        min=max(data.keys()),\n",
    "        max=max(data.keys()),\n",
    "        options = data.keys(),\n",
    "        description='game_id:',\n",
    "        continuous_update=True\n",
    "    )\n",
    "    \n",
    "    return g_id_widget\n",
    "\n",
    "\n",
    "def event_id_widget(game_id):\n",
    "    event_data = data[game_id].keys()\n",
    "    \n",
    "    e_id_widget = widgets.SelectionSlider(\n",
    "        min=min(event_data),\n",
    "        max=max(event_data),\n",
    "        options = event_data,\n",
    "        description='event_id:',\n",
    "        continuous_update=True\n",
    "    )\n",
    "    return e_id_widget\n",
    "\n",
    "\n",
    "def plot_image():\n",
    "    image = plt.imread(\"./references/nhl_rink.png\")\n",
    "    fig, ax = plt.subplots(figsize=(9,4))\n",
    "    ax.set_xlabel('Feet', fontweight ='bold')\n",
    "    ax.set_ylabel('Feet', fontweight ='bold')\n",
    "    ax.set_title(\"Result Description\", fontsize = 10, fontweight ='bold')\n",
    "    ax.imshow(image, extent=[-100, 100, 42.5, -42.5])\n",
    "    plt.plot(20,20, \"ob\", markersize=8)\n",
    "    plt.show()\n",
    "\n",
    "\n",
    "def display_details(**args):\n",
    "    \"\"\"displays the event start date and time according to selected game_id\"\"\"\n",
    "    with open(args[\"path\"]) as json_file:\n",
    "        data = json.load(json_file)\n",
    "\n",
    "    game = data[str(args[\"game_id\"])]\n",
    "    new_data = get_game_ids(path)\n",
    "    \n",
    "    \n",
    "    display(args[\"game_id\"])\n",
    "    \n",
    "    a = \"Game Start Date: \" + game['gameData']['datetime']['dateTime']\n",
    "    display(a)\n",
    "    \n",
    "    b = \"Game ID: \" + str(args[\"game_id\"])+\"; \"+game['gameData']['teams']['home']['abbreviation']+\" (home) vs \"+game['gameData']['teams']['away']['abbreviation']+\" (away)\"\n",
    "    # Display the 2 teams information in a form of a dataframe\n",
    "    display(b)\n",
    "    \n",
    "    df = pd.DataFrame({'Team': [game['gameData']['teams']['home']['abbreviation'], game['gameData']['teams']['away']['abbreviation']],\n",
    "                        'Goals': [game['liveData']['linescore']['teams']['home']['goals'], game['liveData']['linescore']['teams']['away']['goals']],\n",
    "                        'SOG': [game['liveData']['linescore']['teams']['home']['shotsOnGoal'], game['liveData']['linescore']['teams']['away']['shotsOnGoal']],\n",
    "                        'SO Goals': [game['liveData']['linescore']['teams']['home']['powerPlay'], game['liveData']['linescore']['teams']['away']['powerPlay']],\n",
    "                        #'SO Attempts': [game['liveData']['linescore']['teams']['home']['powerPlayOpportunities'], game['liveData']['linescore']['teams']['away']['powerPlayOpportunities']]\n",
    "                        })  \n",
    "    display(df)\n",
    "    \n",
    "    event_ids = event_id_widget(args[\"game_id\"])\n",
    "    display(event_ids)\n",
    "    \n",
    "    current_event_id = event_ids.value\n",
    "    display(current_event_id)\n",
    "    \n",
    "    display(plot_image())\n",
    "    \n",
    "    all_plays = pd.DataFrame(game['liveData']['plays']['allPlays'])\n",
    "    about = pd.json_normalize(all_plays['about'])\n",
    "    specific_event_about = {\"about\": about.loc[about['eventId'] == current_event_id].reset_index(drop=True).to_dict()}\n",
    "    event_ids = pd.json_normalize(all_plays['about'])['eventId'].values\n",
    "    coordinates = all_plays.coordinates.values\n",
    "    players = all_plays.players.values\n",
    "    team = all_plays.team.values\n",
    "    result = all_plays.result.values\n",
    "    \n",
    "    con_data = pd.DataFrame(list(zip(event_ids,coordinates,players,team,result)), columns=['event_ids','coordinates','players','team','result'])\n",
    "    \n",
    "    specific_event = con_data.loc[about['eventId'] == current_event_id].reset_index(drop=True).to_dict()\n",
    "    final_dict = {**specific_event_about, **specific_event}\n",
    "    display(final_dict)\n",
    "    "
   ]
  },
  {
   "cell_type": "code",
   "execution_count": 432,
   "id": "72349170",
   "metadata": {},
   "outputs": [
    {
     "data": {
      "application/vnd.jupyter.widget-view+json": {
       "model_id": "3d15426e1627449e8e300b76fe090f68",
       "version_major": 2,
       "version_minor": 0
      },
      "text/plain": [
       "interactive(children=(SelectionSlider(description='game_id:', options=('2016030111', '2016030112', '2016030113…"
      ]
     },
     "metadata": {},
     "output_type": "display_data"
    },
    {
     "data": {
      "text/plain": [
       "<function __main__.display_details(**args)>"
      ]
     },
     "execution_count": 432,
     "metadata": {},
     "output_type": "execute_result"
    }
   ],
   "source": [
    "widgets.interact(display_details, game_id=game_id_widget('./data/2016_playoffs.json'), path=widgets.fixed('./data/2016_playoffs.json'))"
   ]
  },
  {
   "cell_type": "code",
   "execution_count": null,
   "id": "77e5c169",
   "metadata": {},
   "outputs": [],
   "source": []
  }
 ],
 "metadata": {
  "kernelspec": {
   "display_name": "ift6758-conda-env",
   "language": "python",
   "name": "ift6758-conda-env"
  },
  "language_info": {
   "codemirror_mode": {
    "name": "ipython",
    "version": 3
   },
   "file_extension": ".py",
   "mimetype": "text/x-python",
   "name": "python",
   "nbconvert_exporter": "python",
   "pygments_lexer": "ipython3",
   "version": "3.10.6"
  }
 },
 "nbformat": 4,
 "nbformat_minor": 5
}
