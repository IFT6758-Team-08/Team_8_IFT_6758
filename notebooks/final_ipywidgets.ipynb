{
 "cells": [
  {
   "cell_type": "code",
   "execution_count": 1,
   "id": "e0fd95cb",
   "metadata": {},
   "outputs": [],
   "source": [
    "from time import time\n",
    "from matplotlib import image\n",
    "from matplotlib import pyplot as plt\n",
    "import json\n",
    "from tqdm import tqdm\n",
    "import pandas as pd\n",
    "import os\n",
    "import json\n",
    "from ipywidgets import *\n",
    "from IPython.display import display, HTML\n",
    "import re"
   ]
  },
  {
   "cell_type": "code",
   "execution_count": 2,
   "id": "baa11dfe",
   "metadata": {},
   "outputs": [],
   "source": [
    "data_path = './data/2016_playoffs.json'\n",
    "base_image = './references/nhl_rink.png'\n",
    "with open(data_path) as json_file:\n",
    "    data = json.load(json_file)"
   ]
  },
  {
   "cell_type": "code",
   "execution_count": 3,
   "id": "69442a69",
   "metadata": {},
   "outputs": [],
   "source": [
    "def get_game_ids(path):\n",
    "    \"\"\"returns a list of all game ids inside a json file\"\"\"\n",
    "    with open(path) as json_file:\n",
    "        data = json.load(json_file)\n",
    "    game_ids = list(data.keys())\n",
    "    return game_ids\n",
    "\n",
    "game_ids = get_game_ids(data_path)"
   ]
  },
  {
   "cell_type": "code",
   "execution_count": 4,
   "id": "dce6c391",
   "metadata": {},
   "outputs": [],
   "source": [
    "events_l = 100\n",
    "vis_df = None\n",
    "events = None"
   ]
  },
  {
   "cell_type": "code",
   "execution_count": 5,
   "id": "e5c36ef5-2679-4abc-8a4b-d938b21a5541",
   "metadata": {},
   "outputs": [
    {
     "data": {
      "application/vnd.jupyter.widget-view+json": {
       "model_id": "194b4dc5115a4c14b7d62ba681132556",
       "version_major": 2,
       "version_minor": 0
      },
      "text/plain": [
       "IntSlider(value=2016030111, continuous_update=False, description='Game:', max=2016030417, min=2016030111)"
      ]
     },
     "metadata": {},
     "output_type": "display_data"
    },
    {
     "data": {
      "application/vnd.jupyter.widget-view+json": {
       "model_id": "37a23c2e8f8a4605a68a7c0dae37ea78",
       "version_major": 2,
       "version_minor": 0
      },
      "text/plain": [
       "IntSlider(value=0, continuous_update=False, description='Event: ', max=99)"
      ]
     },
     "metadata": {},
     "output_type": "display_data"
    },
    {
     "data": {
      "application/vnd.jupyter.widget-view+json": {
       "model_id": "910cad3c3c66492390caeb95c3a437cc",
       "version_major": 2,
       "version_minor": 0
      },
      "text/plain": [
       "Output()"
      ]
     },
     "metadata": {},
     "output_type": "display_data"
    },
    {
     "data": {
      "text/plain": [
       "<Figure size 640x480 with 0 Axes>"
      ]
     },
     "metadata": {},
     "output_type": "display_data"
    },
    {
     "data": {
      "text/plain": [
       "<Figure size 640x480 with 0 Axes>"
      ]
     },
     "metadata": {},
     "output_type": "display_data"
    }
   ],
   "source": [
    "game_slider = IntSlider(\n",
    "    value=min(game_ids),\n",
    "    min=min(game_ids),\n",
    "    max=max(game_ids),\n",
    "    step=1,\n",
    "    description='Game:',\n",
    "    disabled=False,\n",
    "    continuous_update=False,\n",
    "    orientation='horizontal',\n",
    "    readout=True,\n",
    "    readout_format='d')\n",
    "\n",
    "    \n",
    "event = IntSlider(\n",
    "    value=0,\n",
    "    min=0,\n",
    "    max=events_l-1,\n",
    "    step=1,\n",
    "    description='Event: ',\n",
    "    disabled=False,\n",
    "    continuous_update=False,\n",
    "    orientation='horizontal',\n",
    "    readout=True,\n",
    "    readout_format='d')\n",
    "\n",
    "\n",
    "display(game_slider, event)\n",
    "\n",
    "out = Output()\n",
    "display(out)\n",
    "\n",
    "\n",
    "@out.capture()\n",
    "def callback(game_id):\n",
    "    global vis_df\n",
    "    vis_df = data[str(game_id['new'])]\n",
    "    all_plays = pd.DataFrame(vis_df['liveData']['plays']['allPlays'])\n",
    "    event_ids = pd.json_normalize(all_plays['about'])['eventId'].values\n",
    "    event.min = min(event_ids)\n",
    "    event.max = max(event_ids)\n",
    "    \n",
    "    \n",
    "def plot_image(coordinates, title):\n",
    "    image = plt.imread(\"./references/nhl_rink.png\")\n",
    "    fig, ax = plt.subplots(figsize=(9,4))\n",
    "    ax.set_xlabel('Feet', fontweight ='bold')\n",
    "    ax.set_ylabel('Feet', fontweight ='bold')\n",
    "    ax.set_title(title, fontsize = 10, fontweight ='bold')\n",
    "    ax.imshow(image, extent=[-100, 100, 42.5, -42.5])\n",
    "    plt.plot(coordinates['0_x'],coordinates['0_y'], \"ob\", markersize=8)\n",
    "    plt.show()\n",
    "    \n",
    "    \n",
    "@out.capture()\n",
    "def plot_event(e):\n",
    "    out.clear_output()\n",
    "    \n",
    "    a = \"Game Start Date: \" + vis_df['gameData']['datetime']['dateTime']\n",
    "    display(a)\n",
    "    b = vis_df['gameData']['teams']['home']['abbreviation']+\" (home) vs \"+vis_df['gameData']['teams']['away']['abbreviation']+\" (away)\"\n",
    "    display(b)\n",
    "    \n",
    "    df = pd.DataFrame({'Team': [vis_df['gameData']['teams']['home']['abbreviation'], vis_df['gameData']['teams']['away']['abbreviation']],\n",
    "                        'Goals': [vis_df['liveData']['linescore']['teams']['home']['goals'], vis_df['liveData']['linescore']['teams']['away']['goals']],\n",
    "                        'SOG': [vis_df['liveData']['linescore']['teams']['home']['shotsOnGoal'], vis_df['liveData']['linescore']['teams']['away']['shotsOnGoal']],\n",
    "                        'SO Goals': [vis_df['liveData']['linescore']['teams']['home']['powerPlay'], vis_df['liveData']['linescore']['teams']['away']['powerPlay']]                    \n",
    "                        })  \n",
    "    display(df)\n",
    "    \n",
    "    current_event_id = int(e['new'])\n",
    "\n",
    "    all_plays = pd.DataFrame(vis_df['liveData']['plays']['allPlays'])\n",
    "    about = pd.json_normalize(all_plays['about'])\n",
    "    specific_event_about = {\"about\": about.loc[about['eventId'] == current_event_id].reset_index(drop=True).to_dict()}\n",
    "\n",
    "    event_ids = pd.json_normalize(all_plays['about'])['eventId'].values\n",
    "    coordinates = all_plays.coordinates.values\n",
    "    players = all_plays.players.values\n",
    "    team = all_plays.team.values\n",
    "    result = all_plays.result.values\n",
    "\n",
    "    con_data = pd.DataFrame(list(zip(event_ids,coordinates,players,team,result)), columns=['event_ids','coordinates','players','team','result'])\n",
    "    \n",
    "    specific_event = con_data.loc[about['eventId'] == current_event_id].reset_index(drop=True).to_dict()\n",
    "    final_dict = {**specific_event_about, **specific_event}\n",
    "\n",
    "    current_coordinates = pd.json_normalize(specific_event[\"coordinates\"], sep='_').to_dict(orient='records')[0]\n",
    "    plot_desc = pd.json_normalize(specific_event[\"result\"], sep='_').to_dict(orient='records')[0]\n",
    "    display(plot_image(current_coordinates, plot_desc[\"0_description\"]))\n",
    "    display(final_dict)\n",
    "    plt.clf()\n",
    "\n",
    "\n",
    "game_slider.observe(callback, names=['value'])\n",
    "event.observe(plot_event, names=['value'])"
   ]
  },
  {
   "cell_type": "code",
   "execution_count": null,
   "id": "3a817556",
   "metadata": {},
   "outputs": [],
   "source": []
  }
 ],
 "metadata": {
  "kernelspec": {
   "display_name": "Python 3 (ipykernel)",
   "language": "python",
   "name": "python3"
  },
  "language_info": {
   "codemirror_mode": {
    "name": "ipython",
    "version": 3
   },
   "file_extension": ".py",
   "mimetype": "text/x-python",
   "name": "python",
   "nbconvert_exporter": "python",
   "pygments_lexer": "ipython3",
   "version": "3.10.6"
  },
  "vscode": {
   "interpreter": {
    "hash": "31f2aee4e71d21fbe5cf8b01ff0e069b9275f58929596ceb00d14d90e3e16cd6"
   }
  }
 },
 "nbformat": 4,
 "nbformat_minor": 5
}
