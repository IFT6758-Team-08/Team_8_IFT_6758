{
 "cells": [
  {
   "cell_type": "code",
   "execution_count": 1,
   "id": "cc2613c0-ec40-452a-8acd-7df6621f9977",
   "metadata": {},
   "outputs": [],
   "source": [
    "import pandas as pd\n",
    "import matplotlib.pyplot as plt\n",
    "import matplotlib.colors as plc\n",
    "import seaborn as sns\n",
    "import numpy as np\n",
    "from scipy import stats\n",
    "from scipy.ndimage import gaussian_filter\n",
    "from scipy.interpolate import griddata\n",
    "import os"
   ]
  },
  {
   "cell_type": "code",
   "execution_count": 2,
   "id": "5881ea3c-e3b8-4d1c-ab77-bfb2cd59cc72",
   "metadata": {},
   "outputs": [
    {
     "data": {
      "text/plain": [
       "\"\\ndf = pd.read_csv('2016_visuals.csv')\\ndf['y'] = df['y_transformed']+45\\nteam_av_smooth, league_av_smooth = gaussian_filter(df['average_per_hour'], sigma=3), gaussian_filter(df['league_avearage'], sigma=3)\\ndf['team_smooth_av'], df['league_smooth_av'] = team_av_smooth, league_av_smooth\\ndf['smooth_diff'] = df['team_smooth_av'] - df['league_smooth_av']\\ndf.head()\\n\""
      ]
     },
     "execution_count": 2,
     "metadata": {},
     "output_type": "execute_result"
    }
   ],
   "source": [
    "\"\"\"\n",
    "df = pd.read_csv('2016_visuals.csv')\n",
    "df['y'] = df['y_transformed']+45\n",
    "team_av_smooth, league_av_smooth = gaussian_filter(df['average_per_hour'], sigma=3), gaussian_filter(df['league_avearage'], sigma=3)\n",
    "df['team_smooth_av'], df['league_smooth_av'] = team_av_smooth, league_av_smooth\n",
    "df['smooth_diff'] = df['team_smooth_av'] - df['league_smooth_av']\n",
    "df.head()\n",
    "\"\"\""
   ]
  },
  {
   "cell_type": "code",
   "execution_count": 3,
   "id": "ec1d22b0-9ffb-4059-a660-e906270e17ca",
   "metadata": {},
   "outputs": [],
   "source": [
    "team_df = pd.read_csv('2016_team.csv')\n",
    "league_df = pd.read_csv('2016_league.csv')\n",
    "team_df['y'] = team_df['y_transformed']+45 #from 0 to 85\n",
    "league_df['y'] = league_df['y_transformed']+45 #from 0 to 85\n",
    "team_df['team_av_smooth'] = gaussian_filter(team_df['average_per_hour'], sigma=3)\n",
    "league_df['league_av_smooth'] = gaussian_filter(league_df['average_per_hour'], sigma=3)"
   ]
  },
  {
   "cell_type": "code",
   "execution_count": 4,
   "id": "619c16c5-be8f-4b2e-be25-d1b780b55b85",
   "metadata": {},
   "outputs": [],
   "source": [
    "from PIL import Image\n",
    "img = Image.open('nhl_rink.png')"
   ]
  },
  {
   "cell_type": "code",
   "execution_count": 47,
   "id": "6c1d0ab5-16cd-4ff6-83ef-f544d32b50b2",
   "metadata": {},
   "outputs": [],
   "source": [
    "team_df = team_df.loc[team_df['team'] == 'Arizona Coyotes']\n",
    "team_rink = np.zeros((91, 86))\n",
    "for i in range(0, 91): \n",
    "    for j in range(0, 86): \n",
    "        if team_df.loc[(team_df['goal_dist'] == i) & (team_df['y'] ==j), 'team_av_smooth'].shape[0] != 0:\n",
    "            team_rink[i][j] = np.around(team_df.loc[(team_df['goal_dist'] == i) & (team_df['y'] ==j), 'average_per_hour'].values[0],4)\n",
    "\n",
    "\n",
    "\n",
    "\n"
   ]
  },
  {
   "cell_type": "code",
   "execution_count": 48,
   "id": "89a3e9d0-558c-44d9-aaa1-d41d5054391d",
   "metadata": {},
   "outputs": [],
   "source": [
    "\n",
    "league_rink = np.zeros((91, 86))\n",
    "for i in range(0, 91): \n",
    "    for j in range(0, 86): \n",
    "        if league_df.loc[(league_df['goal_dist'] == i) & (league_df['y'] ==j), 'league_av_smooth'].shape[0] != 0:\n",
    "            league_rink[i][j] = np.around(league_df.loc[(league_df['goal_dist'] == i) & (league_df['y'] ==j), 'average_per_hour'].values[0],4)\n"
   ]
  },
  {
   "cell_type": "code",
   "execution_count": 49,
   "id": "07fb05f0-5c24-4adf-bcd9-57af2dd9ce31",
   "metadata": {},
   "outputs": [],
   "source": [
    "diff = team_rink - league_rink\n",
    "diff = \n",
    "diff = gaussian_filter(diff, sigma=3)"
   ]
  },
  {
   "cell_type": "code",
   "execution_count": 60,
   "id": "59cc17e7-d633-4447-b5a5-1da1f9df9f43",
   "metadata": {},
   "outputs": [
    {
     "data": {
      "image/png": "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\n",
      "text/plain": [
       "<Figure size 1000x500 with 2 Axes>"
      ]
     },
     "metadata": {},
     "output_type": "display_data"
    }
   ],
   "source": [
    "x, y = np.arange(86), np.arange(91)\n",
    "\n",
    "min_val = np.min(diff)\n",
    "max_val = np.max(diff)\n",
    "\n",
    "def plot_image():\n",
    "    # Step 1: Create the figure\n",
    "    fig,ax = plt.subplots(figsize=(10,5))\n",
    "    plot = ax.contourf(y, x ,diff, alpha = 0.5, levels=5, cmap='bwr', origin='upper')\n",
    "    ax.imshow(nimg, extent=[0,85,91,-10])"
    "\n",
    "    # Step 4: Set the axis limits\n",
    "    ax.set_xlim(0,85)\n",
    "    fig.colorbar(plot, pad=0.05)\n",
    "    \n",
    "    ax.set_ylim(91,-10)\n",
    "    # Step 5: Set the axis labels\n",
    "    ax.set_xlabel('x')\n",
    "    ax.set_ylabel('y')\n",
    "    # Step 6: Set the title\n",
    "    ax.set_title('Shot Density')\n",
    "    # Step 7: Show the plot\n",
    "    plt.show()\n",
    "\n",
    "\n",
    "plot_image()"
   ]
  },
  {
   "cell_type": "code",
   "execution_count": null,
   "id": "d405ba82-5724-4639-9ac6-71c0a82b65dd",
   "metadata": {},
   "outputs": [],
   "source": [
    "[x,y] = np.round(np.meshgrid(np.linspace(0,86,86),np.linspace(0,101,101)))\n",
    "team_df = team_df.loc[team_df['team'] == 'Arizona Coyotes']\n",
    "#team_av = griddata((team_df['y'],team_df['goal_dist']),team_df['team_av_smooth'],(x,y),fill_value=0)\n",
    "#league_av = griddata((league_df['y'],league_df['goal_dist']),league_df['league_av_smooth'],(x,y),method='cubic',fill_value=0)\n",
    "\n",
    "print(x)\n",
    "diff = team_av - league_av\n",
    "\n",
    "diff_normalized = (2*(diff - np.nanmin(diff))/(np.nanmax(diff) - np.nanmin(diff))) -1\n",
    "\n",
    "diff_min = np.nanmin(diff)\n",
    "diff_max = np.nanmax(diff)\n",
    "levels = np.arange(-1, 1, 0.1)\n",
    "print(diff.shape)"
   ]
  },
  {
   "cell_type": "code",
   "execution_count": null,
   "id": "f4ed2ceb-0c49-488d-9460-5a5af52fae73",
   "metadata": {},
   "outputs": [],
   "source": [
    "#img transforms\n",
    "print(img.size[1])\n",
    "nimg = img.crop((0, 0, (img.size[0]/2), img.size[1]))\n",
    "nimg= nimg.rotate(-90, expand=True)\n",
    "# nimg.show()\n",
    "nimg\n",
    "nimg.save(\"semi-nhl-rink.png\", format=\"png\")"
   ]
  },
  {
   "cell_type": "code",
   "execution_count": null,
   "id": "6e84def2-dced-41c7-b25a-3afb28f9bbe9",
   "metadata": {},
   "outputs": [],
   "source": [
    "\n",
    "\n",
    "def plot_image():\n",
    "    # Step 1: Create the figure\n",
    "    fig,ax = plt.subplots(figsize=(10,5))\n",
    "    plot = ax.contourf(x, y ,diff, alpha = 0.5, cmap='bwr', levels= levels, corner_mask=False)\n",
    "\n",
    "    # Step 4: Set the axis limits\n",
    "    ax.set_xlim(0,85)\n",
    "    fig.colorbar(plot, pad=0.05)\n",
    "    \n",
    "    ax.set_ylim(90,-10)\n",
    "    # Step 5: Set the axis labels\n",
    "    ax.set_xlabel('x')\n",
    "    ax.set_ylabel('y')\n",
    "    # Step 6: Set the title\n",
    "    ax.set_title('Shot Density')\n",
    "    # Step 7: Show the plot\n",
    "    plt.show()\n",
    "\n",
    "\n",
    "plot_image()\n"
   ]
  },
  {
   "cell_type": "code",
   "execution_count": null,
   "id": "23a9850f-6162-4596-a520-6873eec2a69b",
   "metadata": {},
   "outputs": [],
   "source": [
    "\n",
    "\"\"\"\n",
    "team_pivot= team_df.pivot('goal_dist', 'y_transformed','team_av_smooth')\n",
    "league_pivot = league_df.pivot('goal_dist', 'y_transformed','league_av_smooth')\n",
    "\n",
    "X=team_pivot.columns.values\n",
    "Y=team_pivot.index.values\n",
    "x,y=np.meshgrid(X, Y)\n",
    "\n",
    "team_av =team_pivot.values\n",
    "league_av = league_pivot.values\n",
    "diff = team_av - league_av\n",
    "\n",
    "\n",
    "\n",
    "def plot_image():\n",
    "    # Step 1: Create the figure\n",
    "    fig,ax = plt.subplots(figsize=(10,5))\n",
    "    plot = ax.contourf(x, y ,Z, origin='upper')\n",
    "    ax.imshow(nimg, extent=[-42.5,42.5,90,-10])\n",
    "    # Step 4: Set the axis limits\n",
    "    ax.set_xlim(-42.5,42.5)\n",
    "    fig.colorbar(plot)\n",
    "    \n",
    "    ax.set_ylim(90,-10)\n",
    "    # Step 5: Set the axis labels\n",
    "    ax.set_xlabel('x')\n",
    "    ax.set_ylabel('y')\n",
    "    # Step 6: Set the title\n",
    "    ax.set_title('Shot Density')\n",
    "    # Step 7: Show the plot\n",
    "    plt.show()\n",
    "\n",
    "plot_image()\n",
    "\"\"\"\n",
    "    "
   ]
  },
  {
   "cell_type": "code",
   "execution_count": null,
   "id": "80aedac1-0620-41b0-825d-4074244dbc67",
   "metadata": {},
   "outputs": [],
   "source": [
    "img"
   ]
  },
  {
   "cell_type": "code",
   "execution_count": null,
   "id": "207125c3-4097-4b8f-a7dc-e65353f0f152",
   "metadata": {},
   "outputs": [],
   "source": [
    "#img transforms\n",
    "print(img.size[1])\n",
    "nimg = img.crop((0, 0, (img.size[0]/2), img.size[1]))\n",
    "nimg= nimg.rotate(-90, expand=True)\n",
    "# nimg.show()\n",
    "nimg\n",
    "nimg.save(\"semi-nhl-rink.png\", format=\"png\")"
   ]
  },
  {
   "cell_type": "code",
   "execution_count": null,
   "id": "63cdead7-0db3-4e5d-9bce-9f0e6e5194d8",
   "metadata": {},
   "outputs": [],
   "source": [
    "# Semi rink plot\n",
    "fig, ax = plt.subplots(figsize=(10,10))\n",
    "ax.set_xlabel('Feet', fontweight ='bold')\n",
    "ax.set_ylabel('Feet', fontweight ='bold')\n",
    "ax.set_title(\"Result Description\", fontsize = 10, fontweight ='bold')\n",
    "ax.imshow(nimg, extent=[0, 80, 0, 100])#, )\n",
    "# plt.plot(20,20, \"ob\", markersize=8)"
   ]
  },
  {
   "cell_type": "code",
   "execution_count": null,
   "id": "64f69d6a-0a8c-4364-94e2-c8420a087d8b",
   "metadata": {},
   "outputs": [],
   "source": [
    "new_df = pd.DataFrame()\n",
    "new_df['y_transformed'],new_df['goal_dist'], new_df['diff']  = df['y_transformed'], df['goal_dist'], df['raw_normalized']\n",
    "\n",
    "#new_df['y_transformed'],new_df['goal_dist'] = df['y_transformed'], df['goal_dist']\n",
    "def plot_image():\n",
    "    # Step 1: Create the figure\n",
    "    fig,ax = plt.subplots(figsize=(10,5))\n",
    "    # Step 2: Plot the data\n",
    "    sns.kdeplot(data=new_df, x='y_transformed', y='goal_dist', cmap=\"Reds\", cbar=True, cbar_kws={'label': 'Excess Shots'})\n",
    "    # Step 3: Add the image\n",
    "    ax.imshow(nimg, extent=[-40,40,90,-10])\n",
    "    # Step 4: Set the axis limits\n",
    "    ax.set_xlim(-40,40)\n",
    "    \n",
    "    ax.set_ylim(90,-10)\n",
    "    # Step 5: Set the axis labels\n",
    "    ax.set_xlabel('x')\n",
    "    ax.set_ylabel('y')\n",
    "    # Step 6: Set the title\n",
    "    ax.set_title('Shot Density')\n",
    "    # Step 7: Show the plot\n",
    "    plt.show()\n",
    "\n",
    "\n",
    "plot_image()"
   ]
  },
  {
   "cell_type": "code",
   "execution_count": null,
   "id": "4d376dee-669b-44a4-93f0-ab941fe74b0e",
   "metadata": {},
   "outputs": [],
   "source": [
    "#new_df['y_transformed'],new_df['goal_dist'], new_df['diff']  = df['y_transformed'], df['goal_dist'], df['raw_normalized']\n",
    "team_df = df.loc[df['team'] == 'Anaheim Ducks']\n",
    "\n",
    "#team_df['y_transformed'] == team_df.apply(lambda x: x['y_transformed']+45)\n",
    "\n",
    "#Z = stats.gaussian_kde(df['raw_diff'])\n",
    "\n",
    "player_shots_smooth = gaussian_filter(xgoals_player,sigma = 3)\n",
    "\n",
    "new_df= team_df.pivot('goal_dist', 'y','raw_normalized')\n",
    "print(new_df)\n",
    "\n",
    "X=new_df.columns.values\n",
    "Y=new_df.index.values\n",
    "Z=new_df.values\n",
    "x,y=np.meshgrid(X, Y)\n",
    "\n",
    "\n",
    "\n",
    "\n",
    "def plot_image():\n",
    "    # Step 1: Create the figure\n",
    "    fig,ax = plt.subplots(figsize=(10,5))\n",
    "    plot = ax.contourf(x, y ,Z, origin='upper')\n",
    "    ax.imshow(nimg, extent=[0,85,90,-10])\n",
    "    # Step 4: Set the axis limits\n",
    "    ax.set_xlim(0,85)\n",
    "    fig.colorbar(plot)\n",
    "    \n",
    "    ax.set_ylim(90,-10)\n",
    "    # Step 5: Set the axis labels\n",
    "    ax.set_xlabel('x')\n",
    "    ax.set_ylabel('y')\n",
    "    # Step 6: Set the title\n",
    "    ax.set_title('Shot Density')\n",
    "    # Step 7: Show the plot\n",
    "    plt.show()\n",
    "\n",
    "plot_image()\n",
    "    "
   ]
  },
  {
   "cell_type": "code",
   "execution_count": null,
   "id": "d705e6aa-13ea-4f87-99ab-446e60e2748f",
   "metadata": {},
   "outputs": [],
   "source": [
    "from scipy.interpolate import griddata\n",
    "from scipy.ndimage import gaussian_filter \n",
    "diff = griddata((team_df['y'],team_df['goal_dist']),team_df['raw_normalized'],(x,y),method='cubic',fill_value=0)\n",
    "print(diff.shape)"
   ]
  },
  {
   "cell_type": "code",
   "execution_count": null,
   "id": "35c30f4d-b5c3-4a21-a583-75004a00f82e",
   "metadata": {},
   "outputs": [],
   "source": [
    "fig = plt.figure(figsize=(10,12), facecolor='w', edgecolor='k')\n",
    "plt.imshow(diff,origin = 'upper')\n",
    "plt.colorbar(orientation = 'horizontal', pad = 0.05)\n",
    "plt.title('xGoal Array',fontdict={'fontsize': 15})\n",
    "plt.show()"
   ]
  },
  {
   "cell_type": "code",
   "execution_count": null,
   "id": "7aa780dd-a118-4ae8-8eb1-010942008d50",
   "metadata": {},
   "outputs": [],
   "source": [
    "diff_smooth = gaussian_filter(diff, sigma=2)\n",
    "print(diff_smooth.min())\n",
    "fig = plt.figure(figsize=(10,12), facecolor='w', edgecolor='k')\n",
    "plt.imshow(diff_smooth,origin = 'upper')\n",
    "plt.colorbar()\n",
    "plt.title('diff Smoothed Array',fontdict={'fontsize': 15})\n",
    "plt.show()"
   ]
  },
  {
   "cell_type": "code",
   "execution_count": null,
   "id": "8d06e22b-90b9-4591-ae99-4c11e7086ccb",
   "metadata": {},
   "outputs": [],
   "source": [
    "\n",
    "#team_df['diff_smooth'] = diff_smooth\n",
    "print(diff_smooth.shape)\n",
    "\n",
    "\n",
    "#diff_smooth = gaussian_filter(diff, sigma=2)\n",
    "new_df= team_df.pivot('goal_dist', 'y','raw_normalized')\n",
    "\n",
    "X=new_df.columns.values\n",
    "Y=new_df.index.values\n",
    "Z=new_df.values\n",
    "x,y=np.meshgrid(X, Y)\n",
    "z_min, z_max = np.nanmin(diff_smooth), np.nanmax(diff_smooth)\n",
    "\n",
    "def plot_image():\n",
    "    # Step 1: Create the figure\n",
    "    fig,ax = plt.subplots(figsize=(10,5))\n",
    "    plot = ax.contourf(x, y ,diff_smooth, origin='upper', alpha = 1.0, cmap='bwr', \n",
    "        levels = np.linspace(z_min,z_max,12),\n",
    "        vmin=z_min,\n",
    "        vmax=z_max)\n",
    "    ax.imshow(nimg, extent=[0,85,90,-10])\n",
    "    # Step 4: Set the axis limits\n",
    "    ax.set_xlim(0,85)\n",
    "    fig.colorbar(plot)\n",
    "    \n",
    "    ax.set_ylim(90,-10)\n",
    "    # Step 5: Set the axis labels\n",
    "    ax.set_xlabel('x')\n",
    "    ax.set_ylabel('y')\n",
    "    # Step 6: Set the title\n",
    "    ax.set_title('Shot Density')\n",
    "    # Step 7: Show the plot\n",
    "    plt.show()\n",
    "\n",
    "\n",
    "plot_image()\n"
   ]
  },
  {
   "cell_type": "code",
   "execution_count": null,
   "id": "6456ea79-3d3d-44a8-ad6a-4f50af378bae",
   "metadata": {},
   "outputs": [],
   "source": [
    "from scipy.interpolate import griddata\n",
    "team_df = df.loc[df['team'] == 'Anaheim Ducks']\n",
    "\n",
    "new_df= team_df.pivot('goal_dist', 'y','smooth_diff')\n",
    "\n",
    "X=new_df.columns.values\n",
    "Y=new_df.index.values\n",
    "Z=new_df.values\n",
    "x,y=np.meshgrid(X, Y)\n",
    "data_min = np.nanmin(Z)\n",
    "data_max = np.nanmax(Z)\n",
    "\n",
    "\n",
    "diff = griddata((team_df['y'],team_df['goal_dist']),team_df['smooth_diff'],(x,y),method='cubic',fill_value=0)\n",
    "fig, ax = plt.subplots(1,1, figsize=(10,12), facecolor='w', edgecolor='k')\n",
    "ax.imshow(nimg, extent=[0,85,90,-10])\n",
    "ax = ax.contourf(x,y,Z, cmap='bwr',  levels = np.linspace(-1,1, 0.5))\n",
    "plt.axis('off')\n",
    "#plt.title(player_name + ' vs Leage xGoal',fontdict={'fontsize': 15})\n",
    "fig.colorbar(ax, orientation=\"horizontal\",pad = 0.05)\n",
    "plt.show()\n",
    "\n"
   ]
  },
  {
   "cell_type": "code",
   "execution_count": null,
   "id": "612cfe20-2343-4ce3-8367-b42879254f12",
   "metadata": {},
   "outputs": [],
   "source": []
  }
 ],
 "metadata": {
  "kernelspec": {
   "display_name": "Python 3 (ipykernel)",
   "language": "python",
   "name": "python3"
  },
  "language_info": {
   "codemirror_mode": {
    "name": "ipython",
    "version": 3
   },
   "file_extension": ".py",
   "mimetype": "text/x-python",
   "name": "python",
   "nbconvert_exporter": "python",
   "pygments_lexer": "ipython3",
   "version": "3.10.6"
  }
 },
 "nbformat": 4,
 "nbformat_minor": 5
}
