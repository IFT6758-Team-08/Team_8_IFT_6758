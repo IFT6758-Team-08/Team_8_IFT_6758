{
 "cells": [
  {
   "cell_type": "code",
   "execution_count": 7,
   "id": "e0fd95cb",
   "metadata": {},
   "outputs": [],
   "source": [
    "from time import time\n",
    "from matplotlib import image\n",
    "from matplotlib import pyplot as plt\n",
    "import json\n",
    "from tqdm import tqdm\n",
    "import pandas as pd\n",
    "import os\n",
    "import json\n",
    "from ipywidgets import *\n",
    "from IPython.display import display, HTML\n",
    "import ipywidgets as widgets\n",
    "import numpy\n",
    "import re"
   ]
  },
  {
   "cell_type": "code",
   "execution_count": 8,
   "id": "baa11dfe",
   "metadata": {},
   "outputs": [],
   "source": [
    "data = None"
   ]
  },
  {
   "cell_type": "code",
   "execution_count": 9,
   "id": "69442a69",
   "metadata": {},
   "outputs": [],
   "source": [
    "def get_game_ids(path):\n",
    "    \"\"\"returns a list of all game ids inside a json file\"\"\"\n",
    "    global data\n",
    "    with open(path) as json_file:\n",
    "        data = json.load(json_file)\n",
    "    game_ids = list(data.keys())\n",
    "    return game_ids"
   ]
  },
  {
   "cell_type": "code",
   "execution_count": 10,
   "id": "dce6c391",
   "metadata": {},
   "outputs": [],
   "source": [
    "events_l = 100\n",
    "vis_df = None\n",
    "events = None\n",
    "default_game_ids = \"2016030111\""
   ]
  },
  {
   "cell_type": "code",
   "execution_count": 11,
   "id": "ba08b310",
   "metadata": {},
   "outputs": [],
   "source": [
    "all_paths=[\"./data/2016_regular_season.json\", \"./data/2016_playoffs.json\"]"
   ]
  },
  {
   "cell_type": "code",
   "execution_count": 12,
   "id": "e5c36ef5-2679-4abc-8a4b-d938b21a5541",
   "metadata": {},
   "outputs": [
    {
     "data": {
      "application/vnd.jupyter.widget-view+json": {
       "model_id": "d7a82622a30e4c519d3cf609b45f6598",
       "version_major": 2,
       "version_minor": 0
      },
      "text/plain": [
       "HBox(children=(RadioButtons(options=('Regular',), value=None), RadioButtons(options=('Playoff',), value=None))…"
      ]
     },
     "metadata": {},
     "output_type": "display_data"
    },
    {
     "data": {
      "application/vnd.jupyter.widget-view+json": {
       "model_id": "2819fb60a086447bb748c6a23642a33c",
       "version_major": 2,
       "version_minor": 0
      },
      "text/plain": [
       "IntSlider(value=2016030111, continuous_update=False, description='Game:', max=2016030111, min=2016030111)"
      ]
     },
     "metadata": {},
     "output_type": "display_data"
    },
    {
     "data": {
      "application/vnd.jupyter.widget-view+json": {
       "model_id": "6deac26f6ef5432f89e6d5dfa71562f2",
       "version_major": 2,
       "version_minor": 0
      },
      "text/plain": [
       "IntSlider(value=0, continuous_update=False, description='Event: ', max=99)"
      ]
     },
     "metadata": {},
     "output_type": "display_data"
    },
    {
     "data": {
      "application/vnd.jupyter.widget-view+json": {
       "model_id": "98a4b27db1564307848a017070cb6b02",
       "version_major": 2,
       "version_minor": 0
      },
      "text/plain": [
       "Output()"
      ]
     },
     "metadata": {},
     "output_type": "display_data"
    },
    {
     "data": {
      "text/plain": [
       "<Figure size 640x480 with 0 Axes>"
      ]
     },
     "metadata": {},
     "output_type": "display_data"
    }
   ],
   "source": [
    "output_radio_selected = widgets.Text()\n",
    "radio1 = widgets.RadioButtons(options=['Regular'])\n",
    "radio2 = widgets.RadioButtons(options=['Playoff'])\n",
    "radio1.index = None\n",
    "radio2.index = None\n",
    "\n",
    "\n",
    "game_slider = IntSlider(\n",
    "    value=default_game_ids,\n",
    "    min=default_game_ids,\n",
    "    max=default_game_ids,\n",
    "    step=1,\n",
    "    description='Game:',\n",
    "    disabled=False,\n",
    "    continuous_update=False,\n",
    "    orientation='horizontal',\n",
    "    readout=True,\n",
    "    readout_format='d')\n",
    "\n",
    "\n",
    "def radio1_observer(sender):\n",
    "    radio2.unobserve(radio2_observer, names=['value'])\n",
    "    radio2.index = None\n",
    "    global selected_option\n",
    "    selected_option = radio1.value\n",
    "    output_radio_selected.value = radio1.value\n",
    "    selected_option = output_radio_selected.value\n",
    "    path=all_paths[0]\n",
    "    game_ids = get_game_ids(path)\n",
    "    game_slider.value = min(game_ids)\n",
    "    game_slider.min = min(game_ids)\n",
    "    game_slider.max = max(game_ids)\n",
    "    radio2.observe(radio2_observer, names=['value'])\n",
    "    \n",
    "    \n",
    "def radio2_observer(sender):\n",
    "    radio1.unobserve(radio1_observer, names=['value'])\n",
    "    radio1.index = None\n",
    "    global selected_option2\n",
    "    output_radio_selected.value = radio2.value\n",
    "    selected_option2 = output_radio_selected.value\n",
    "    path=all_paths[1]\n",
    "    game_ids = get_game_ids(path)\n",
    "    game_slider.value = min(game_ids)\n",
    "    game_slider.min = min(game_ids)\n",
    "    game_slider.max = max(game_ids)\n",
    "    radio1.observe(radio1_observer, names=['value'])\n",
    "    \n",
    "    \n",
    "display(widgets.HBox([radio1,radio2]))\n",
    "radio1.observe(radio1_observer, names=['value'])\n",
    "radio2.observe(radio2_observer, names=['value'])\n",
    "\n",
    "\n",
    "event = IntSlider(\n",
    "    value=0,\n",
    "    min=0,\n",
    "    max=events_l-1,\n",
    "    steps=1,\n",
    "    description='Event: ',\n",
    "    disabled=False,\n",
    "    continuous_update=False,\n",
    "    orientation='horizontal',\n",
    "    readout=True,\n",
    "    readout_format='d')\n",
    "\n",
    "\n",
    "display(game_slider, event)\n",
    "out = Output()\n",
    "display(out)\n",
    "\n",
    "\n",
    "@out.capture()\n",
    "def callback(game_id):\n",
    "    print(game_id['new'])\n",
    "    global vis_df\n",
    "    vis_df = data[str(game_id['new'])]\n",
    "    all_plays = pd.DataFrame(vis_df['liveData']['plays']['allPlays'])\n",
    "    event_ids = pd.json_normalize(all_plays['about'])['eventId'].values\n",
    "    event.min = min(event_ids)\n",
    "    event.max = max(event_ids)\n",
    "    \n",
    "    \n",
    "def plot_image(coordinates, title):\n",
    "    image = plt.imread(\"./references/nhl_rink.png\")\n",
    "    fig, ax = plt.subplots(figsize=(9,4))\n",
    "    ax.set_xlabel('Feet', fontweight ='bold')\n",
    "    ax.set_ylabel('Feet', fontweight ='bold')\n",
    "    ax.set_title(title, fontsize = 10, fontweight ='bold')\n",
    "    ax.imshow(image, extent=[-100, 100, 42.5, -42.5])\n",
    "    plt.plot(coordinates['0_x'],coordinates['0_y'], \"ob\", markersize=8)\n",
    "    plt.show()\n",
    "    \n",
    "    \n",
    "def plot_image_null():\n",
    "    image = plt.imread(\"./references/nhl_rink.png\")\n",
    "    fig, ax = plt.subplots(figsize=(9,4))\n",
    "    ax.set_xlabel('Feet', fontweight ='bold')\n",
    "    ax.set_ylabel('Feet', fontweight ='bold')\n",
    "    ax.set_title(\"Coordinates & Event data is not available\", fontsize = 10, fontweight ='bold')\n",
    "    ax.imshow(image, extent=[-100, 100, 42.5, -42.5])\n",
    "    plt.show()\n",
    "    \n",
    "    \n",
    "@out.capture()\n",
    "def plot_event(e):\n",
    "    out.clear_output()\n",
    "    \n",
    "    a = \"Game Start Date: \" + vis_df['gameData']['datetime']['dateTime']\n",
    "    display(a)\n",
    "    b = vis_df['gameData']['teams']['home']['abbreviation']+\" (home) vs \"+vis_df['gameData']['teams']['away']['abbreviation']+\" (away)\"\n",
    "    display(b)\n",
    "    \n",
    "    df = pd.DataFrame({'Team': [vis_df['gameData']['teams']['home']['abbreviation'], vis_df['gameData']['teams']['away']['abbreviation']],\n",
    "                        'Goals': [vis_df['liveData']['linescore']['teams']['home']['goals'], vis_df['liveData']['linescore']['teams']['away']['goals']],\n",
    "                        'SOG': [vis_df['liveData']['linescore']['teams']['home']['shotsOnGoal'], vis_df['liveData']['linescore']['teams']['away']['shotsOnGoal']],\n",
    "                        'SO Goals': [vis_df['liveData']['linescore']['teams']['home']['powerPlay'], vis_df['liveData']['linescore']['teams']['away']['powerPlay']]                    \n",
    "                        })  \n",
    "    display(df)\n",
    "    \n",
    "    current_event_id = int(e['new'])\n",
    "    try:\n",
    "        all_plays = pd.DataFrame(vis_df['liveData']['plays']['allPlays'])\n",
    "        about = pd.json_normalize(all_plays['about'])\n",
    "        specific_event_about = {\"about\": about.loc[about['eventId'] == current_event_id].reset_index(drop=True).to_dict()}\n",
    "\n",
    "        event_ids = pd.json_normalize(all_plays['about'])['eventId'].values\n",
    "        coordinates = all_plays.coordinates.values\n",
    "        players = all_plays.players.values\n",
    "        team = all_plays.team.values\n",
    "        result = all_plays.result.values\n",
    "\n",
    "        con_data = pd.DataFrame(list(zip(event_ids,coordinates,players,team,result)), columns=['event_ids','coordinates','players','team','result'])\n",
    "\n",
    "        specific_event = con_data.loc[about['eventId'] == current_event_id].reset_index(drop=True).to_dict()\n",
    "        final_dict = {**specific_event_about, **specific_event}\n",
    "\n",
    "        current_coordinates = pd.json_normalize(specific_event[\"coordinates\"], sep='_').to_dict(orient='records')[0]\n",
    "        plot_desc = pd.json_normalize(specific_event[\"result\"], sep='_').to_dict(orient='records')[0]\n",
    "        display(plot_image(current_coordinates, plot_desc[\"0_description\"]))\n",
    "        display(final_dict)\n",
    "        plt.clf()\n",
    "        \n",
    "    except:\n",
    "        display(\"Coordinates & Event data is not available\")\n",
    "        display(plot_image_null())\n",
    "        plt.clf()\n",
    "\n",
    "\n",
    "game_slider.observe(callback, names=['value'])\n",
    "event.observe(plot_event, names=['value'])"
   ]
  },
  {
   "cell_type": "code",
   "execution_count": null,
   "id": "af113f9b",
   "metadata": {},
   "outputs": [],
   "source": []
  }
 ],
 "metadata": {
  "kernelspec": {
   "display_name": "Python 3 (ipykernel)",
   "language": "python",
   "name": "python3"
  },
  "language_info": {
   "codemirror_mode": {
    "name": "ipython",
    "version": 3
   },
   "file_extension": ".py",
   "mimetype": "text/x-python",
   "name": "python",
   "nbconvert_exporter": "python",
   "pygments_lexer": "ipython3",
   "version": "3.9.12"
  },
  "vscode": {
   "interpreter": {
    "hash": "31f2aee4e71d21fbe5cf8b01ff0e069b9275f58929596ceb00d14d90e3e16cd6"
   }
  }
 },
 "nbformat": 4,
 "nbformat_minor": 5
}
