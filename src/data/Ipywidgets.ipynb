{
 "cells": [
  {
   "cell_type": "code",
   "execution_count": 115,
   "metadata": {},
   "outputs": [],
   "source": [
    "import requests\n",
    "import ipywidgets as widgets\n",
    "from IPython.display import display\n",
    "import json\n",
    "import os\n",
    "import matplotlib.pyplot as plt\n",
    "import matplotlib.image as mpimg\n",
    "import numpy as np\n",
    "import time\n",
    "from code import interact\n",
    "import pandas as pd\n",
    "import markdown\n",
    "from requests import options "
   ]
  },
  {
   "cell_type": "code",
   "execution_count": 118,
   "metadata": {},
   "outputs": [],
   "source": [
    "year = str(2016)\n",
    "season = 'regular_season'"
   ]
  },
  {
   "cell_type": "code",
   "execution_count": 122,
   "metadata": {},
   "outputs": [
    {
     "data": {
      "application/vnd.jupyter.widget-view+json": {
       "model_id": "f0922a850a8c436986549254fe28a73f",
       "version_major": 2,
       "version_minor": 0
      },
      "text/plain": [
       "RadioButtons(description='Season:', options=('regular_season', 'playoffs'), value='regular_season')"
      ]
     },
     "metadata": {},
     "output_type": "display_data"
    },
    {
     "data": {
      "application/vnd.jupyter.widget-view+json": {
       "model_id": "ad5c29cdbb94481c89244c3d1610c345",
       "version_major": 2,
       "version_minor": 0
      },
      "text/plain": [
       "interactive(children=(SelectionSlider(continuous_update=False, description='game_id:', options=('2016020001', …"
      ]
     },
     "metadata": {},
     "output_type": "display_data"
    },
    {
     "data": {
      "text/plain": [
       "<function __main__.display_details(game_id)>"
      ]
     },
     "execution_count": 122,
     "metadata": {},
     "output_type": "execute_result"
    }
   ],
   "source": [
    "global paths \n",
    "paths = '/home/yashaswi/Documents/IFT 6758/Project NHL/'+year+'_'+season+'.json'\n",
    "season_widget = widgets.RadioButtons(\n",
    "    options=['regular_season', 'playoffs'],\n",
    "    description='Season:',\n",
    "    disabled=False,\n",
    "    )\n",
    "\n",
    "def on_season_widget_change(change):\n",
    "    if change['new'] == 'playoffs':\n",
    "        paths = '/home/yashaswi/Documents/IFT 6758/Project NHL/'+year+'_playoffs.json'\n",
    "        max_val = max(get_game_ids(paths))\n",
    "        \n",
    "    elif change['new'] == 'regular_season':\n",
    "        paths = '/home/yashaswi/Documents/IFT 6758/Project NHL/'+year+'_regular_season.json'\n",
    "        max_val= max(get_game_ids(paths))\n",
    "        # ID_Widget()\n",
    "    else:\n",
    "        print(\"Error\")\n",
    "    ID_Widget().max = max_val\n",
    "    return paths\n",
    "\n",
    "def get_game_ids(paths):\n",
    "    \"\"\"returns a list of all game ids inside a json file\"\"\"\n",
    "    game_ids = []\n",
    "    with open(paths) as json_file:\n",
    "        data = json.load(json_file)\n",
    "        game_ids = list(data.keys())\n",
    "    return game_ids\n",
    "\n",
    "\n",
    "def ID_Widget():\n",
    "    \"\"\"\"returns Game ID widget \"\"\"\n",
    "    MIN_ID = min(get_game_ids(paths))\n",
    "    MAX_ID = max(get_game_ids(paths))\n",
    "    id_widget = widgets.SelectionSlider(\n",
    "        value=MIN_ID,\n",
    "        min=MIN_ID,\n",
    "        max=MAX_ID,\n",
    "        # step=1,\n",
    "        options = get_game_ids(paths),\n",
    "        description='game_id:',\n",
    "        continuous_update=False\n",
    "    )\n",
    "    return id_widget\n",
    "\n",
    "def display_details(game_id):\n",
    "    \"\"\"displays the event start date and time according to selected game_id\"\"\"\n",
    "    with open(paths) as json_file:\n",
    "        data = json.load(json_file)\n",
    "        game = data[str(game_id)]\n",
    "        a = \"Game Start Date: \" + game['gameData']['datetime']['dateTime']\n",
    "        b = \"Game ID: \" + str(game_id)+\"; \"+game['gameData']['teams']['home']['abbreviation']+\" (home) vs \"+game['gameData']['teams']['away']['abbreviation']+\" (away)\"\n",
    "        # Display the 2 teams information in a form of a dataframe\n",
    "        df = pd.DataFrame({'Team': [game['gameData']['teams']['home']['abbreviation'], game['gameData']['teams']['away']['abbreviation']],\n",
    "                            'Goals': [game['liveData']['linescore']['teams']['home']['goals'], game['liveData']['linescore']['teams']['away']['goals']],\n",
    "                            'SOG': [game['liveData']['linescore']['teams']['home']['shotsOnGoal'], game['liveData']['linescore']['teams']['away']['shotsOnGoal']],\n",
    "                            'SO Goals': [game['liveData']['linescore']['teams']['home']['powerPlay'], game['liveData']['linescore']['teams']['away']['powerPlay']],\n",
    "                            #'SO Attempts': [game['liveData']['linescore']['teams']['home']['powerPlayOpportunities'], game['liveData']['linescore']['teams']['away']['powerPlayOpportunities']]\n",
    "                            })\n",
    "        display(a)\n",
    "        display(b)\n",
    "        display(df)\n",
    "# display(season_widget)\n",
    "season_widget.observe(on_season_widget_change, names='value')\n",
    "\n",
    "display(season_widget)\n",
    "widgets.interact(display_details, game_id=ID_Widget())"
   ]
  },
  {
   "cell_type": "code",
   "execution_count": null,
   "metadata": {},
   "outputs": [],
   "source": []
  }
 ],
 "metadata": {
  "kernelspec": {
   "display_name": "Python 3.10.6 64-bit",
   "language": "python",
   "name": "python3"
  },
  "language_info": {
   "codemirror_mode": {
    "name": "ipython",
    "version": 3
   },
   "file_extension": ".py",
   "mimetype": "text/x-python",
   "name": "python",
   "nbconvert_exporter": "python",
   "pygments_lexer": "ipython3",
   "version": "3.10.6"
  },
  "orig_nbformat": 4,
  "vscode": {
   "interpreter": {
    "hash": "916dbcbb3f70747c44a77c7bcd40155683ae19c65e1c03b4aa3499c5328201f1"
   }
  }
 },
 "nbformat": 4,
 "nbformat_minor": 2
}
