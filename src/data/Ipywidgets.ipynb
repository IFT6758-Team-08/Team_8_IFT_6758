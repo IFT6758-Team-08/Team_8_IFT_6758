{
 "cells": [
  {
   "cell_type": "code",
   "execution_count": 2,
   "metadata": {},
   "outputs": [],
   "source": [
    "import requests\n",
    "import ipywidgets as widgets\n",
    "from IPython.display import display\n",
    "import json\n",
    "import os\n",
    "import matplotlib.pyplot as plt\n",
    "import matplotlib.image as mpimg\n",
    "import numpy as np\n",
    "import time"
   ]
  },
  {
   "cell_type": "code",
   "execution_count": 17,
   "metadata": {},
   "outputs": [
    {
     "data": {
      "application/vnd.jupyter.widget-view+json": {
       "model_id": "68402112398248ab8eaf58722ec8dcc0",
       "version_major": 2,
       "version_minor": 0
      },
      "text/plain": [
       "Dropdown(description='Game Type:', options=('Regular Season', 'Playoffs'), value='Regular Season')"
      ]
     },
     "metadata": {},
     "output_type": "display_data"
    },
    {
     "name": "stdout",
     "output_type": "stream",
     "text": [
      "Game Type:  Regular Season\n"
     ]
    }
   ],
   "source": [
    "from code import interact\n",
    "import pandas as pd\n",
    "import markdown\n",
    "from requests import options \n",
    "\n",
    "def select_game_type():\n",
    "    \"\"\"returns a widget that allows you to select game type\"\"\"\n",
    "    game_type = widgets.Dropdown(\n",
    "        options=['Regular Season', 'Playoffs'],\n",
    "        value='Regular Season',\n",
    "        description='Game Type:',\n",
    "        disabled=False,\n",
    "    )\n",
    "    # year = widgets.Dropdown(\n",
    "    #     options=['2016','2017','2018', '2019', '2020'],\n",
    "    #     value='2016',\n",
    "    #     description='Year:',\n",
    "    #     disabled=False,\n",
    "    # )\n",
    "    display(game_type)\n",
    "    \n",
    "\n",
    "    # Change the path according to the game type selected by the user and the year selected by the user \n",
    "    def on_type_change(change):\n",
    "        if change == 'Regular Season':\n",
    "            path = 'regular_season/2016'\n",
    "        else:\n",
    "            path = 'playoffs/2016json'\n",
    "        # print(path)\n",
    "        return path\n",
    "    # def on_year_change(change):\n",
    "    #     if game_type.value == 'Regular Season':\n",
    "    #         path = 'regular_season/'+change.value+'.json'\n",
    "    #     else:\n",
    "    #         path = 'playoffs/'+change.value+'.json'\n",
    "    #     print(path)\n",
    "    #     return path\n",
    "\n",
    "    # game_type.observe(on_type_change,change=\"playoff\")\n",
    "    # year.observe(on_year_change,change=\"year\")\n",
    "    game_type.observe(on_type_change, names='value')\n",
    "    # year.observe(on_year_change, names='value')\n",
    "    print(\"Game Type: \", game_type.value)\n",
    "    return game_type\n",
    "select_game_type()\n",
    "\n",
    "def get_game_ids(path):\n",
    "    \"\"\"returns a list of all game ids inside a json file\"\"\"\n",
    "    game_ids = []\n",
    "    with open(path) as json_file:\n",
    "        data = json.load(json_file)\n",
    "        game_ids = list(data.keys())\n",
    "    return game_ids\n",
    "\n",
    "def ID_Widget(path):\n",
    "    \"\"\"\"returns Game ID widget \"\"\"\n",
    "    MIN_ID = min(get_game_ids(path))\n",
    "    MAX_ID = max(get_game_ids(path))\n",
    "    id_widget = widgets.SelectionSlider(\n",
    "        value=MIN_ID,\n",
    "        min=MIN_ID,\n",
    "        max=MAX_ID,\n",
    "        # step=1,\n",
    "        options = get_game_ids(path),\n",
    "        description='game_id:',\n",
    "        continuous_update=False\n",
    "    )\n",
    "    return id_widget\n",
    "\n",
    "def display_details(game_id, path):\n",
    "    \"\"\"displays the event start date and time according to selected game_id\"\"\"\n",
    "    with open(path) as json_file:\n",
    "        data = json.load(json_file)\n",
    "        game = data[str(game_id)]\n",
    "        a = \"Game Start Date: \" + game['gameData']['datetime']['dateTime']\n",
    "        b = \"Game ID: \" + str(game_id)+\"; \"+game['gameData']['teams']['home']['abbreviation']+\" (home) vs \"+game['gameData']['teams']['away']['abbreviation']+\" (away)\"\n",
    "        # Display the 2 teams information in a form of a dataframe\n",
    "        df = pd.DataFrame({'Team': [game['gameData']['teams']['home']['abbreviation'], game['gameData']['teams']['away']['abbreviation']],\n",
    "                            'Goals': [game['liveData']['linescore']['teams']['home']['goals'], game['liveData']['linescore']['teams']['away']['goals']],\n",
    "                            'SOG': [game['liveData']['linescore']['teams']['home']['shotsOnGoal'], game['liveData']['linescore']['teams']['away']['shotsOnGoal']],\n",
    "                            'SO Goals': [game['liveData']['linescore']['teams']['home']['powerPlay'], game['liveData']['linescore']['teams']['away']['powerPlay']],\n",
    "                            #'SO Attempts': [game['liveData']['linescore']['teams']['home']['powerPlayOpportunities'], game['liveData']['linescore']['teams']['away']['powerPlayOpportunities']]\n",
    "                            })\n",
    "        display(a)\n",
    "        display(b)\n",
    "        display(df)"
   ]
  },
  {
   "cell_type": "code",
   "execution_count": null,
   "metadata": {},
   "outputs": [],
   "source": [
    "widgets.interact(display_details, game_id=ID_Widget('/home/yashaswi/Documents/IFT 6758/Project NHL/2016_playoff.json'), path=widgets.fixed('/home/yashaswi/Documents/IFT 6758/Project NHL/2016_playoff.json'))"
   ]
  },
  {
   "cell_type": "code",
   "execution_count": 7,
   "metadata": {},
   "outputs": [],
   "source": [
    "def get_event_ids(game_id, path):\n",
    "    \"\"\"returns a list of all event ids inside a json file\"\"\"\n",
    "    event_ids = []\n",
    "    with open(path) as json_file:\n",
    "        data = json.load(json_file)\n",
    "        game = data[str(game_id)]\n",
    "        #event_ids = list(game['liveData']['plays']['allPlays'].keys())\n",
    "        for event in game['liveData']['plays']['allPlays']:\n",
    "            event_ids.append(event['about']['eventIdx'])\n",
    "    return event_ids\n",
    "\n",
    "def Event_Widget(game_id, path):\n",
    "    \"\"\"\"returns Event ID widget \"\"\"\n",
    "    MIN_EVENT = min(get_event_ids(game_id, path))\n",
    "    MAX_EVENT = max(get_event_ids(game_id, path))\n",
    "    event_widget = widgets.IntSlider(\n",
    "        value=MIN_EVENT,\n",
    "        min=MIN_EVENT,\n",
    "        max=MAX_EVENT,\n",
    "        options = get_event_ids(game_id, path),\n",
    "        description='event_id:',\n",
    "        continuous_update=False\n",
    "    )\n",
    "    return event_widget\n",
    "\n",
    "def event_change(event_id, game_id, path):\n",
    "    \"\"\"displays event details according to selected game_id and event_id\"\"\"\n",
    "    with open(path) as json_file:\n",
    "        data = json.load(json_file)\n",
    "        game = data[str(game_id)]\n",
    "        event = game['liveData']['plays']['allPlays'][event_id]\n",
    "        # Display the event details in a form of a dataframe\n",
    "        df = pd.DataFrame({'Event ID': [event_id],\n",
    "                            'Event Type': [event['result']['eventTypeId']],\n",
    "                            'Event Description': [event['result']['description']],\n",
    "                            'Event Team': [event['team']['name']],\n",
    "                            'Event Period': [event['about']['period']],\n",
    "                            'Event Period Type': [event['about']['periodType']],\n",
    "                            'Event Time': [event['about']['periodTime']],\n",
    "                            'Event Time Remaining': [event['about']['periodTimeRemaining']],\n",
    "                            'Event Strength': [event['result']['strength']['name']],\n",
    "                            'X': [event['coordinates']['x']],\n",
    "                            'Y': [event['coordinates']['y']]\n",
    "                            })\n",
    "        display(df)"
   ]
  },
  {
   "cell_type": "code",
   "execution_count": null,
   "metadata": {},
   "outputs": [],
   "source": []
  }
 ],
 "metadata": {
  "kernelspec": {
   "display_name": "Python 3.10.6 64-bit",
   "language": "python",
   "name": "python3"
  },
  "language_info": {
   "codemirror_mode": {
    "name": "ipython",
    "version": 3
   },
   "file_extension": ".py",
   "mimetype": "text/x-python",
   "name": "python",
   "nbconvert_exporter": "python",
   "pygments_lexer": "ipython3",
   "version": "3.10.6"
  },
  "orig_nbformat": 4,
  "vscode": {
   "interpreter": {
    "hash": "916dbcbb3f70747c44a77c7bcd40155683ae19c65e1c03b4aa3499c5328201f1"
   }
  }
 },
 "nbformat": 4,
 "nbformat_minor": 2
}
