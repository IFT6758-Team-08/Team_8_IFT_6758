{
 "cells": [
  {
   "cell_type": "code",
   "execution_count": 1,
   "metadata": {},
   "outputs": [],
   "source": [
    "import requests\n",
    "import ipywidgets as widgets\n",
    "from IPython.display import display\n",
    "import json\n",
    "import os\n",
    "import matplotlib.pyplot as plt\n",
    "import matplotlib.image as mpimg\n",
    "import numpy as np\n",
    "import time"
   ]
  },
  {
   "cell_type": "code",
   "execution_count": 2,
   "metadata": {},
   "outputs": [
    {
     "data": {
      "text/plain": [
       "'Game Start Date: 2017-04-12T23:00:00Z'"
      ]
     },
     "metadata": {},
     "output_type": "display_data"
    },
    {
     "data": {
      "text/plain": [
       "'Game ID: 2016030111; MTL (home) vs NYR (away)'"
      ]
     },
     "metadata": {},
     "output_type": "display_data"
    },
    {
     "data": {
      "text/html": [
       "<div>\n",
       "<style scoped>\n",
       "    .dataframe tbody tr th:only-of-type {\n",
       "        vertical-align: middle;\n",
       "    }\n",
       "\n",
       "    .dataframe tbody tr th {\n",
       "        vertical-align: top;\n",
       "    }\n",
       "\n",
       "    .dataframe thead th {\n",
       "        text-align: right;\n",
       "    }\n",
       "</style>\n",
       "<table border=\"1\" class=\"dataframe\">\n",
       "  <thead>\n",
       "    <tr style=\"text-align: right;\">\n",
       "      <th></th>\n",
       "      <th>Team</th>\n",
       "      <th>Goals</th>\n",
       "      <th>SOG</th>\n",
       "      <th>SO Goals</th>\n",
       "    </tr>\n",
       "  </thead>\n",
       "  <tbody>\n",
       "    <tr>\n",
       "      <th>0</th>\n",
       "      <td>MTL</td>\n",
       "      <td>0</td>\n",
       "      <td>31</td>\n",
       "      <td>False</td>\n",
       "    </tr>\n",
       "    <tr>\n",
       "      <th>1</th>\n",
       "      <td>NYR</td>\n",
       "      <td>2</td>\n",
       "      <td>31</td>\n",
       "      <td>False</td>\n",
       "    </tr>\n",
       "  </tbody>\n",
       "</table>\n",
       "</div>"
      ],
      "text/plain": [
       "  Team  Goals  SOG  SO Goals\n",
       "0  MTL      0   31     False\n",
       "1  NYR      2   31     False"
      ]
     },
     "metadata": {},
     "output_type": "display_data"
    }
   ],
   "source": [
    "from code import interact\n",
    "import pandas as pd\n",
    "import markdown\n",
    "from requests import options \n",
    "# Create a widget that allows you to flip through all of the events, \n",
    "# and displays the event data and coordinates on the ice rink image.\n",
    "def get_game_ids(path):\n",
    "    \"\"\"returns a list of all game ids inside a json file\"\"\"\n",
    "    game_ids = []\n",
    "    with open(path) as json_file:\n",
    "        data = json.load(json_file)\n",
    "        game_ids = list(data.keys())\n",
    "    return game_ids\n",
    "\n",
    "def ID_Widget(path):\n",
    "    \"\"\"\"returns Game ID widget \"\"\"\n",
    "    MIN_ID = min(get_game_ids(path))\n",
    "    MAX_ID = max(get_game_ids(path))\n",
    "    id_widget = widgets.SelectionSlider(\n",
    "        value=MIN_ID,\n",
    "        min=MIN_ID,\n",
    "        max=MAX_ID,\n",
    "        # step=1,\n",
    "        options = get_game_ids(path),\n",
    "        description='game_id:',\n",
    "        continuous_update=False\n",
    "    )\n",
    "    return id_widget\n",
    "\n",
    "def display_details(game_id, path):\n",
    "    \"\"\"displays the event start date and time according to selected game_id\"\"\"\n",
    "    with open(path) as json_file:\n",
    "        data = json.load(json_file)\n",
    "        game = data[str(game_id)]\n",
    "        a = \"Game Start Date: \" + game['gameData']['datetime']['dateTime']\n",
    "        b = \"Game ID: \" + str(game_id)+\"; \"+game['gameData']['teams']['home']['abbreviation']+\" (home) vs \"+game['gameData']['teams']['away']['abbreviation']+\" (away)\"\n",
    "        # Display the 2 teams information in a form of a dataframe\n",
    "        df = pd.DataFrame({'Team': [game['gameData']['teams']['home']['abbreviation'], game['gameData']['teams']['away']['abbreviation']],\n",
    "                            'Goals': [game['liveData']['linescore']['teams']['home']['goals'], game['liveData']['linescore']['teams']['away']['goals']],\n",
    "                            'SOG': [game['liveData']['linescore']['teams']['home']['shotsOnGoal'], game['liveData']['linescore']['teams']['away']['shotsOnGoal']],\n",
    "                            'SO Goals': [game['liveData']['linescore']['teams']['home']['powerPlay'], game['liveData']['linescore']['teams']['away']['powerPlay']],\n",
    "                            #'SO Attempts': [game['liveData']['linescore']['teams']['home']['powerPlayOpportunities'], game['liveData']['linescore']['teams']['away']['powerPlayOpportunities']]\n",
    "                            })\n",
    "        display(a)\n",
    "        display(b)\n",
    "        display(df)"
   ]
  },
  {
   "cell_type": "code",
   "execution_count": 3,
   "metadata": {},
   "outputs": [
    {
     "data": {
      "application/vnd.jupyter.widget-view+json": {
       "model_id": "8e4069d4ecde4a568a034de4012cb5f7",
       "version_major": 2,
       "version_minor": 0
      },
      "text/plain": [
       "interactive(children=(SelectionSlider(continuous_update=False, description='game_id:', options=('2016030111', …"
      ]
     },
     "metadata": {},
     "output_type": "display_data"
    },
    {
     "data": {
      "text/plain": [
       "<function __main__.display_details(game_id, path)>"
      ]
     },
     "execution_count": 3,
     "metadata": {},
     "output_type": "execute_result"
    }
   ],
   "source": [
    "widgets.interact(display_details, game_id=ID_Widget('./2016_playoffs.json'), path=widgets.fixed('./2016_playoffs.json'))"
   ]
  },
  {
   "cell_type": "code",
   "execution_count": 7,
   "metadata": {},
   "outputs": [],
   "source": [
    "def get_event_ids(game_id, path):\n",
    "    \"\"\"returns a list of all event ids inside a json file\"\"\"\n",
    "    event_ids = []\n",
    "    with open(path) as json_file:\n",
    "        data = json.load(json_file)\n",
    "        game = data[str(game_id)]\n",
    "        #event_ids = list(game['liveData']['plays']['allPlays'].keys())\n",
    "        for event in game['liveData']['plays']['allPlays']:\n",
    "            event_ids.append(event['about']['eventIdx'])\n",
    "    return event_ids\n",
    "\n",
    "def Event_Widget(game_id, path):\n",
    "    \"\"\"\"returns Event ID widget \"\"\"\n",
    "    MIN_EVENT = min(get_event_ids(game_id, path))\n",
    "    MAX_EVENT = max(get_event_ids(game_id, path))\n",
    "    event_widget = widgets.IntSlider(\n",
    "        value=MIN_EVENT,\n",
    "        min=MIN_EVENT,\n",
    "        max=MAX_EVENT,\n",
    "        options = get_event_ids(game_id, path),\n",
    "        description='event_id:',\n",
    "        continuous_update=False\n",
    "    )\n",
    "    return event_widget\n",
    "\n",
    "def event_change(event_id, game_id, path):\n",
    "    \"\"\"displays event details according to selected game_id and event_id\"\"\"\n",
    "    with open(path) as json_file:\n",
    "        data = json.load(json_file)\n",
    "        game = data[str(game_id)]\n",
    "        event = game['liveData']['plays']['allPlays'][event_id]\n",
    "        # Display the event details in a form of a dataframe\n",
    "        df = pd.DataFrame({'Event ID': [event_id],\n",
    "                            'Event Type': [event['result']['eventTypeId']],\n",
    "                            'Event Description': [event['result']['description']],\n",
    "                            'Event Team': [event['team']['name']],\n",
    "                            'Event Period': [event['about']['period']],\n",
    "                            'Event Period Type': [event['about']['periodType']],\n",
    "                            'Event Time': [event['about']['periodTime']],\n",
    "                            'Event Time Remaining': [event['about']['periodTimeRemaining']],\n",
    "                            'Event Strength': [event['result']['strength']['name']],\n",
    "                            'X': [event['coordinates']['x']],\n",
    "                            'Y': [event['coordinates']['y']]\n",
    "                            })\n",
    "        display(df)"
   ]
  },
  {
   "cell_type": "code",
   "execution_count": null,
   "metadata": {},
   "outputs": [],
   "source": []
  }
 ],
 "metadata": {
  "kernelspec": {
   "display_name": "Python 3.10.6 64-bit",
   "language": "python",
   "name": "python3"
  },
  "language_info": {
   "codemirror_mode": {
    "name": "ipython",
    "version": 3
   },
   "file_extension": ".py",
   "mimetype": "text/x-python",
   "name": "python",
   "nbconvert_exporter": "python",
   "pygments_lexer": "ipython3",
   "version": "3.10.6"
  },
  "orig_nbformat": 4,
  "vscode": {
   "interpreter": {
    "hash": "916dbcbb3f70747c44a77c7bcd40155683ae19c65e1c03b4aa3499c5328201f1"
   }
  }
 },
 "nbformat": 4,
 "nbformat_minor": 2
}
