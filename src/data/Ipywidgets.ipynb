{
 "cells": [
  {
   "cell_type": "code",
   "execution_count": 1,
   "metadata": {},
   "outputs": [],
   "source": [
    "import requests\n",
    "import ipywidgets as widgets\n",
    "from IPython.display import display\n",
    "import json\n",
    "import os\n",
    "import matplotlib.pyplot as plt\n",
    "import matplotlib.image as mpimg\n",
    "import numpy as np\n",
    "import time\n",
    "from code import interact\n",
    "import pandas as pd\n",
    "import markdown\n",
    "from requests import options "
   ]
  },
  {
   "cell_type": "code",
   "execution_count": 2,
   "metadata": {},
   "outputs": [],
   "source": [
    "year = str(2016)\n",
    "season = 'regular_season'"
   ]
  },
  {
   "cell_type": "code",
   "execution_count": null,
   "metadata": {},
   "outputs": [],
   "source": [
    "import re\n",
    "global paths\n",
    "paths = 'data/'+year+'_'+season+'.json'\n",
    "season_widget = widgets.RadioButtons(\n",
    "    options=['regular_season', 'playoffs'],\n",
    "    description='Season:',\n",
    "    disabled=False,\n",
    "    )\n",
    "global path_new\n",
    "def get_game_ids(path_new):\n",
    "    \"\"\"returns a list of all game ids inside a json file\"\"\"\n",
    "    game_ids = []\n",
    "    with open(path_new) as json_file:\n",
    "        if re.search('regular_season', path_new):\n",
    "            data = json.load(json_file)\n",
    "            game_ids = list(data.keys())\n",
    "        elif re.search('playoffs', path_new):\n",
    "            data = json.load(json_file)\n",
    "            game_ids = list(data.keys())\n",
    "            print(game_ids)\n",
    "            # check if the game id is not in playoffs json file, then do not add it to the list\n",
    "            for game_id in game_ids:\n",
    "                if game_id not in data.keys():\n",
    "                    game_ids.remove(game_id)\n",
    "    return game_ids\n",
    "    \n",
    "path_new=paths\n",
    "\n",
    "def on_season_widget_change(change):\n",
    "    global path_new\n",
    "    print(\"Value of season widget is: \",season_widget.value)\n",
    "    if change['new'] == 'playoffs':\n",
    "        season = 'playoffs'\n",
    "        path_new = 'data/'+year+'_playoffs.json'\n",
    "        id_widget.max = get_game_ids(path_new)[-1]\n",
    "        id_widget.min = get_game_ids(path_new)[0]\n",
    "        id_widget.options = get_game_ids(path_new)\n",
    "    elif change['new'] == 'regular_season':\n",
    "        season = 'regular_season'\n",
    "        path_new = 'data/'+year+'_regular_season.json'\n",
    "        id_widget.max = get_game_ids(path_new)[-1]\n",
    "        id_widget.min = get_game_ids(path_new)[0]\n",
    "        id_widget.options = get_game_ids(path_new)\n",
    "    else:\n",
    "        print(\"Error\")\n",
    "\n",
    "id_widget = widgets.SelectionSlider(\n",
    "        # value=MIN_ID,\n",
    "        min=get_game_ids(path_new)[0],\n",
    "        max=get_game_ids(path_new)[-1],\n",
    "        # step=1,\n",
    "        options = get_game_ids(path_new),\n",
    "        description='game_id:',\n",
    "        continuous_update=False\n",
    "    )\n",
    "\n",
    "def display_details(game_id):\n",
    "    \"\"\"displays the event start date and time according to selected game_id\"\"\"\n",
    "    with open(path_new) as json_file:\n",
    "        data = json.load(json_file)\n",
    "        game = data[str(game_id)]\n",
    "        a = \"Game Start Date: \" + game['gameData']['datetime']['dateTime']\n",
    "        b = \"Game ID: \" + str(game_id)+\"; \"+game['gameData']['teams']['home']['abbreviation']+\" (home) vs \"+game['gameData']['teams']['away']['abbreviation']+\" (away)\"\n",
    "        # Display the 2 teams information in a form of a dataframe\n",
    "        df = pd.DataFrame({'Team': [game['gameData']['teams']['home']['abbreviation'], game['gameData']['teams']['away']['abbreviation']],\n",
    "                            'Goals': [game['liveData']['linescore']['teams']['home']['goals'], game['liveData']['linescore']['teams']['away']['goals']],\n",
    "                            'SOG': [game['liveData']['linescore']['teams']['home']['shotsOnGoal'], game['liveData']['linescore']['teams']['away']['shotsOnGoal']],\n",
    "                            'SO Goals': [game['liveData']['linescore']['teams']['home']['powerPlay'], game['liveData']['linescore']['teams']['away']['powerPlay']],\n",
    "                            #'SO Attempts': [game['liveData']['linescore']['teams']['home']['powerPlayOpportunities'], game['liveData']['linescore']['teams']['away']['powerPlayOpportunities']]\n",
    "                            })\n",
    "        display(a)\n",
    "        display(b)\n",
    "        display(df)\n",
    "\n",
    "season_widget.observe(on_season_widget_change, names='value')\n",
    "display(season_widget)\n",
    "print(\"Value of season widget is: \",season_widget.value)\n",
    "widgets.interact(display_details, game_id=id_widget)\n"
   ]
  }
 ],
 "metadata": {
  "kernelspec": {
   "display_name": "Python 3.10.8 64-bit",
   "language": "python",
   "name": "python3"
  },
  "language_info": {
   "codemirror_mode": {
    "name": "ipython",
    "version": 3
   },
   "file_extension": ".py",
   "mimetype": "text/x-python",
   "name": "python",
   "nbconvert_exporter": "python",
   "pygments_lexer": "ipython3",
   "version": "3.10.8"
  },
  "orig_nbformat": 4,
  "vscode": {
   "interpreter": {
    "hash": "3bc73cb5d5dd4dad2430dee329b6767cdde5b2418dda575fdf6998b309347386"
   }
  }
 },
 "nbformat": 4,
 "nbformat_minor": 2
}
